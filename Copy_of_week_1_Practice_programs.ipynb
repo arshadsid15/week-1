{
  "cells": [
    {
      "cell_type": "markdown",
      "metadata": {
        "id": "view-in-github",
        "colab_type": "text"
      },
      "source": [
        "<a href=\"https://colab.research.google.com/github/arshadsid15/week-1/blob/main/Copy_of_week_1_Practice_programs.ipynb\" target=\"_parent\"><img src=\"https://colab.research.google.com/assets/colab-badge.svg\" alt=\"Open In Colab\"/></a>"
      ]
    },
    {
      "cell_type": "markdown",
      "source": [
        "#Section A"
      ],
      "metadata": {
        "id": "3tSheTJzbmA4"
      }
    },
    {
      "cell_type": "code",
      "execution_count": null,
      "metadata": {
        "colab": {
          "base_uri": "https://localhost:8080/"
        },
        "id": "X4No_SUGQdqd",
        "outputId": "694561be-e0ec-40f8-e273-5833d9c522da"
      },
      "outputs": [
        {
          "output_type": "stream",
          "name": "stdout",
          "text": [
            "Hello Python\n"
          ]
        }
      ],
      "source": [
        "#section A:Fundamentals of Python\n",
        "#1.Write a Python program to print “Hello Python”\n",
        "a=\"Hello Python\"\n",
        "print(a)"
      ]
    },
    {
      "cell_type": "code",
      "source": [
        "#2.Write a Python program to do arithmetical operations addition and division.?\n",
        "a=12\n",
        "b=80\n",
        "print(a+b)\n",
        "print(a/b)"
      ],
      "metadata": {
        "colab": {
          "base_uri": "https://localhost:8080/"
        },
        "id": "RajRNv8DM1sj",
        "outputId": "a7fa6c0f-a78a-41ca-87bf-78f9189158a5"
      },
      "execution_count": null,
      "outputs": [
        {
          "output_type": "stream",
          "name": "stdout",
          "text": [
            "92\n",
            "0.15\n"
          ]
        }
      ]
    },
    {
      "cell_type": "code",
      "source": [
        "#3.Write a Python program to find the area of a triangle?\n",
        "base=float(input(\"Enter a base:\"))\n",
        "height=float(input(\"Enter height:\"))\n",
        "Area=0.5*base*height\n",
        "print(\"Area of Triangle:\",Area)"
      ],
      "metadata": {
        "colab": {
          "base_uri": "https://localhost:8080/"
        },
        "id": "p45EmTToM3Vr",
        "outputId": "6c67458f-e8d1-4c1e-97f3-d58638ddf079"
      },
      "execution_count": null,
      "outputs": [
        {
          "output_type": "stream",
          "name": "stdout",
          "text": [
            "Enter a base:15\n",
            "Enter height:20\n",
            "Area of Triangle: 150.0\n"
          ]
        }
      ]
    },
    {
      "cell_type": "code",
      "source": [
        "#4. Write a Python program to swap two variables?\n",
        "a=\"Arshad\"\n",
        "b=\"Siddique\"\n",
        "print(a,b)\n",
        "c=a\n",
        "a=b\n",
        "b=c\n",
        "print(a,b)"
      ],
      "metadata": {
        "colab": {
          "base_uri": "https://localhost:8080/"
        },
        "id": "mEBfv5JlM-C0",
        "outputId": "0830a036-d73f-429a-e824-98282e368b7d"
      },
      "execution_count": null,
      "outputs": [
        {
          "output_type": "stream",
          "name": "stdout",
          "text": [
            "Arshad Siddique\n",
            "Siddique Arshad\n"
          ]
        }
      ]
    },
    {
      "cell_type": "code",
      "source": [
        "#5. Write a Python program to generate a random number?\n",
        "import random\n",
        "n=55\n",
        "rndom=int(n*random.random())\n",
        "print(rndom)\n"
      ],
      "metadata": {
        "colab": {
          "base_uri": "https://localhost:8080/"
        },
        "id": "ntwFggicNLQM",
        "outputId": "1739717d-e140-40ed-8d1b-303d0e0f4571"
      },
      "execution_count": null,
      "outputs": [
        {
          "output_type": "stream",
          "name": "stdout",
          "text": [
            "3\n"
          ]
        }
      ]
    },
    {
      "cell_type": "markdown",
      "source": [
        "#Section B"
      ],
      "metadata": {
        "id": "IcCifX4Kdb9l"
      }
    },
    {
      "cell_type": "code",
      "execution_count": null,
      "metadata": {
        "colab": {
          "base_uri": "https://localhost:8080/"
        },
        "id": "kYYQB9amRPNb",
        "outputId": "aad2caf1-df69-4140-fef4-8b85a4617b5b"
      },
      "outputs": [
        {
          "output_type": "stream",
          "name": "stdout",
          "text": [
            "Enter kilometer value:78\n",
            "78 km= 124.80000000000001 miles\n"
          ]
        }
      ],
      "source": [
        "#Section B:\n",
        "#1. Write a Python program to convert kilometers to miles?\n",
        "KM=int(input(\"Enter kilometer value:\"))\n",
        "miles=1.6*KM\n",
        "print(KM,\"km=\",miles,'miles')"
      ]
    },
    {
      "cell_type": "code",
      "source": [
        "#2. Write a Python program to convert Celsius to Fahrenheit?\n",
        "celsius=float(input(\"Enter tempreture in celsius:\"))\n",
        "fahrenheit=(celsius*9/5)+32\n",
        "print('%.2f celsiusis:%0.2f Fahrenheit'%(celsius,fahrenheit))"
      ],
      "metadata": {
        "colab": {
          "base_uri": "https://localhost:8080/"
        },
        "id": "EXaIjpPvOZRM",
        "outputId": "9fc313ce-d7ea-4fe9-aa15-14862e050bde"
      },
      "execution_count": null,
      "outputs": [
        {
          "output_type": "stream",
          "name": "stdout",
          "text": [
            "Enter tempreture in celsius:50\n",
            "50.00 celsiusis:122.00 Fahrenheit\n"
          ]
        }
      ]
    },
    {
      "cell_type": "code",
      "source": [
        "#3. Write a Python program to display calendar?\n",
        "import calendar\n",
        "y=2021\n",
        "m=5\n",
        "print(calendar.month(y,m))"
      ],
      "metadata": {
        "colab": {
          "base_uri": "https://localhost:8080/"
        },
        "id": "c2bpGkuCOfq8",
        "outputId": "bfd82c10-4d41-43d9-a3b8-039602e24719"
      },
      "execution_count": null,
      "outputs": [
        {
          "output_type": "stream",
          "name": "stdout",
          "text": [
            "      May 2021\n",
            "Mo Tu We Th Fr Sa Su\n",
            "                1  2\n",
            " 3  4  5  6  7  8  9\n",
            "10 11 12 13 14 15 16\n",
            "17 18 19 20 21 22 23\n",
            "24 25 26 27 28 29 30\n",
            "31\n",
            "\n"
          ]
        }
      ]
    },
    {
      "cell_type": "code",
      "source": [
        "#4. Write a Python program to solve quadratic equation?\n",
        "import math\n",
        "a = int(input(\"Enter the coefficients of a: \"))\n",
        "b = int(input(\"Enter the coefficients of b: \"))\n",
        "c = int(input(\"Enter the coefficients of c: \"))\n",
        "d = b**2-4*a*c \n",
        "if d < 0:\n",
        "    print (\"This equation has no real solution\")\n",
        "elif d == 0:\n",
        "    x = (-b+math.sqrt(b**2-4*a*c))/2*a\n",
        "    print (\"This equation has one solutions: \", x)\n",
        "else:\n",
        "    x1 = (-b+math.sqrt(b**2-4*a*c))/2*a\n",
        "    x2 = (-b-math.sqrt(b**2-4*a*c))/2*a\n",
        "    print (\"This equation has two solutions: \", x1, \" and\", x2)"
      ],
      "metadata": {
        "id": "_a5ZW8BUcR3m",
        "colab": {
          "base_uri": "https://localhost:8080/"
        },
        "outputId": "df5fd190-39fa-43da-d7c2-04ffe56b0720"
      },
      "execution_count": null,
      "outputs": [
        {
          "output_type": "stream",
          "name": "stdout",
          "text": [
            "Enter the coefficients of a: 4\n",
            "Enter the coefficients of b: 4\n",
            "Enter the coefficients of c: 7\n",
            "This equation has no real solution\n"
          ]
        }
      ]
    },
    {
      "cell_type": "code",
      "source": [
        "#5. Write a Python program to swap two variables without temp variable?\n",
        "a=\"Arshad\"\n",
        "b=\"Siddique\"\n",
        "print(a,b)\n"
      ],
      "metadata": {
        "colab": {
          "base_uri": "https://localhost:8080/"
        },
        "id": "bazGoONXOm3D",
        "outputId": "1cca2381-d97d-467f-cd12-d8524b5cfc13"
      },
      "execution_count": null,
      "outputs": [
        {
          "output_type": "stream",
          "name": "stdout",
          "text": [
            "Arshad Siddique\n"
          ]
        }
      ]
    },
    {
      "cell_type": "markdown",
      "source": [
        "#Section C"
      ],
      "metadata": {
        "id": "NQKIfArndQYB"
      }
    },
    {
      "cell_type": "code",
      "execution_count": null,
      "metadata": {
        "colab": {
          "base_uri": "https://localhost:8080/"
        },
        "id": "NnMBoUVEYPeK",
        "outputId": "a954cd85-e124-413a-9d36-faba21423461"
      },
      "outputs": [
        {
          "output_type": "stream",
          "name": "stdout",
          "text": [
            "enter the number:-3\n",
            "number is negative\n"
          ]
        }
      ],
      "source": [
        "#Section C:\n",
        "#1. Write a Python Program to Check if a Number is Positive, Negative or Zero?\n",
        "a=int(input(\"enter the number:\"))\n",
        "if a>0:\n",
        "  print(\"number is positive\")\n",
        "if a<0:\n",
        "    print(\"number is negative\")\n",
        "else:\n",
        "      print(\"number is zero\")     "
      ]
    },
    {
      "cell_type": "code",
      "source": [
        "#2. Write a Python Program to Check if a Number is Odd or Even?\n",
        "a=int(input(\"enter the number:\"))\n",
        "if (a%2)==0:\n",
        "  print(\"number is even\")\n",
        "else:\n",
        "  print(\"number is odd\")"
      ],
      "metadata": {
        "colab": {
          "base_uri": "https://localhost:8080/"
        },
        "id": "NPthOi5mcX-S",
        "outputId": "74f85ab0-f8fb-4b7e-bcf2-6bd4dadfd46b"
      },
      "execution_count": null,
      "outputs": [
        {
          "output_type": "stream",
          "name": "stdout",
          "text": [
            "enter the number:45\n",
            "number is odd\n"
          ]
        }
      ]
    },
    {
      "cell_type": "code",
      "source": [
        "#3. Write a Python Program to Check Leap Year?\n",
        "Year=int(input(\"enter the year:\"))    \n",
        "if((Year % 400 == 0) or  \n",
        "     (Year % 100 != 0) and  \n",
        "     (Year % 4 == 0)):   \n",
        "    print(\"given Year is a leap Year\")\n",
        "else:\n",
        "   print(\"given year is not leap year\")"
      ],
      "metadata": {
        "colab": {
          "base_uri": "https://localhost:8080/"
        },
        "id": "Dg1VNtuIccKz",
        "outputId": "8cac3e66-a609-4238-fd07-6a47dc4aa236"
      },
      "execution_count": null,
      "outputs": [
        {
          "output_type": "stream",
          "name": "stdout",
          "text": [
            "enter the year:2016\n",
            "given Year is a leap Year\n"
          ]
        }
      ]
    },
    {
      "cell_type": "code",
      "source": [
        "#4. Write a Python Program to Check Prime Number?\n",
        "num =int(input(\"enter the number:\"))\n",
        "if num > 1:\n",
        "    for i in range(2, int(num/2)+1):\n",
        "        if (num % i) == 0:\n",
        "            print(num, \"is not a prime number\")\n",
        "            break\n",
        "    else:\n",
        "        print(num, \"is a prime number\")\n",
        "else:\n",
        "    print(num, \"is not a prime number\") "
      ],
      "metadata": {
        "colab": {
          "base_uri": "https://localhost:8080/"
        },
        "id": "-_jLRllpcjDB",
        "outputId": "2450c0c3-2d0a-428c-cd60-f9b43232c3f0"
      },
      "execution_count": null,
      "outputs": [
        {
          "output_type": "stream",
          "name": "stdout",
          "text": [
            "enter the number:4\n",
            "4 is not a prime number\n"
          ]
        }
      ]
    },
    {
      "cell_type": "code",
      "source": [
        "  #5. Write a Python Program to Print all Prime Numbers in an Interval of 1-10000?\n",
        "lower = 1\n",
        "upper = 10000\n",
        "print(\"Prime numbers between\", lower, \"and\", upper, \"are:\")\n",
        "for num in range(lower, upper + 1):\n",
        "   if num > 1:\n",
        "       for i in range(2, num):\n",
        "           if (num % i) == 0:\n",
        "               break\n",
        "       else:\n",
        "           print(num)    "
      ],
      "metadata": {
        "id": "H5A2QK_ic_J-"
      },
      "execution_count": null,
      "outputs": []
    },
    {
      "cell_type": "markdown",
      "source": [
        "#Section D"
      ],
      "metadata": {
        "id": "EGoQ2_4be0Qh"
      }
    },
    {
      "cell_type": "code",
      "execution_count": null,
      "metadata": {
        "id": "TRb_nKwaXB3I",
        "colab": {
          "base_uri": "https://localhost:8080/"
        },
        "outputId": "cdba8e0f-c12a-43ca-bf28-d2de177c5d98"
      },
      "outputs": [
        {
          "output_type": "stream",
          "name": "stdout",
          "text": [
            "enter the number:10\n",
            "The factorial of 10 is 3628800\n"
          ]
        }
      ],
      "source": [
        "#Section D:\n",
        "#1. Write a Python Program to Find the Factorial of a Number?\n",
        "num=int(input(\"enter the number:\"))\n",
        "factorial=1\n",
        "if num < 0:\n",
        "   print(\"Sorry, factorial does not exist for negative numbers\")\n",
        "elif num == 0:\n",
        "   print(\"The factorial of 0 is 1\")\n",
        "else:\n",
        "   for i in range(1,num + 1):\n",
        "       factorial = factorial*i\n",
        "   print(\"The factorial of\",num,\"is\",factorial)"
      ]
    },
    {
      "cell_type": "code",
      "source": [
        "#2. Write a Python Program to Display the multiplication Table?\n",
        "num=int(input(\"enter the number:\"))\n",
        "for i in range(1, 11):\n",
        "   print(num, 'x', i, '=', num*i)"
      ],
      "metadata": {
        "colab": {
          "base_uri": "https://localhost:8080/"
        },
        "id": "B0nfSyXMfGJf",
        "outputId": "0d811b94-378e-47dc-b5f6-02e8eb06bb26"
      },
      "execution_count": null,
      "outputs": [
        {
          "output_type": "stream",
          "name": "stdout",
          "text": [
            "enter the number:10\n",
            "10 x 1 = 10\n",
            "10 x 2 = 20\n",
            "10 x 3 = 30\n",
            "10 x 4 = 40\n",
            "10 x 5 = 50\n",
            "10 x 6 = 60\n",
            "10 x 7 = 70\n",
            "10 x 8 = 80\n",
            "10 x 9 = 90\n",
            "10 x 10 = 100\n"
          ]
        }
      ]
    },
    {
      "cell_type": "code",
      "source": [
        "#3. Write a Python Program to Print the Fibonacci sequence?\n",
        "terms=int(input(\"How mant terms the user want to print:\"))\n",
        "\n",
        "#First two terms\n",
        "n_1=0\n",
        "n_2=1\n",
        "count=0\n",
        "\n",
        "if terms<=0:\n",
        "  print(\"Please enter apositive interger,the given number is not valid\")\n",
        "\n",
        "elif terms==1:\n",
        "  print(\"The Fibonacci sequence of numbers up to\",terms,\": \")\n",
        "  print(n_1)\n",
        "\n",
        "else:\n",
        "  print(\"The Fibonacci sequence of numbers is:\")\n",
        "  while count < terms:\n",
        "    print(n_1)\n",
        "    nth =n_1+n_2\n",
        "\n",
        "    n_1=n_2\n",
        "    n_2=nth\n",
        "    count=count+1"
      ],
      "metadata": {
        "id": "U8lX_koafoRI",
        "colab": {
          "base_uri": "https://localhost:8080/"
        },
        "outputId": "3833353e-7027-4179-b564-80885291d759"
      },
      "execution_count": null,
      "outputs": [
        {
          "output_type": "stream",
          "name": "stdout",
          "text": [
            "How mant terms the user want to print:10\n",
            "The Fibonacci sequence of numbers is:\n",
            "0\n",
            "1\n",
            "1\n",
            "2\n",
            "3\n",
            "5\n",
            "8\n",
            "13\n",
            "21\n",
            "34\n"
          ]
        }
      ]
    },
    {
      "cell_type": "code",
      "source": [
        "#4. Write a Python Program to Check Armstrong Number?\n",
        "num = int(input(\"Enter a number: \"))\n",
        "sum = 0\n",
        "code = num\n",
        "while code > 0:\n",
        "   digit = code % 10\n",
        "   sum += digit ** 3\n",
        "   code //= 10\n",
        "if num == sum:\n",
        "   print(num,\"is an Armstrong number\")\n",
        "else:\n",
        "   print(num,\"is not an Armstrong number\")"
      ],
      "metadata": {
        "colab": {
          "base_uri": "https://localhost:8080/"
        },
        "id": "Wp5wyCD5h4OD",
        "outputId": "7c382218-0a8f-44a4-8565-eef217ac60c9"
      },
      "execution_count": null,
      "outputs": [
        {
          "output_type": "stream",
          "name": "stdout",
          "text": [
            "Enter a number: 153\n",
            "153 is an Armstrong number\n"
          ]
        }
      ]
    },
    {
      "cell_type": "code",
      "source": [
        "#5. Write a Python Program to Find Armstrong Number in an Interval?\n",
        "lower=int(input(\"Enter lower range:\"))\n",
        "upper=int(input(\"Enter upper range:\"))\n",
        "\n",
        "for i in range(lower,upper+1):\n",
        "  sum=0\n",
        "  num=i\n",
        "  while(i!=0):\n",
        "    digit=i%10\n",
        "    sum=sum+(digit*digit*digit)\n",
        "    i=i//10\n",
        "  if sum==num:\n",
        "    print(num)"
      ],
      "metadata": {
        "id": "oAvS5DxHg70e",
        "colab": {
          "base_uri": "https://localhost:8080/"
        },
        "outputId": "71cbd2b5-6032-4dee-f10a-4258d9cc5fdb"
      },
      "execution_count": null,
      "outputs": [
        {
          "output_type": "stream",
          "name": "stdout",
          "text": [
            "Enter lower range:1\n",
            "Enter upper range:500\n",
            "1\n",
            "153\n",
            "370\n",
            "371\n",
            "407\n"
          ]
        }
      ]
    },
    {
      "cell_type": "code",
      "source": [
        "#6. Write a Python Program to Find the Sum of Natural Numbers?\n",
        "num=int(input(\"enter the number:\"))\n",
        "if num < 0:\n",
        "   print(\"Enter a positive number\")\n",
        "else:\n",
        "   sum = 0\n",
        "   while(num > 0):\n",
        "       sum += num\n",
        "       num -= 1\n",
        "   print(\"The sum is\", sum)"
      ],
      "metadata": {
        "colab": {
          "base_uri": "https://localhost:8080/"
        },
        "id": "onZ_zj4uhpo_",
        "outputId": "926da48c-2eef-4270-da96-5c454152606d"
      },
      "execution_count": null,
      "outputs": [
        {
          "output_type": "stream",
          "name": "stdout",
          "text": [
            "enter the number:10\n",
            "The sum is 55\n"
          ]
        }
      ]
    },
    {
      "cell_type": "markdown",
      "source": [
        "#Section E"
      ],
      "metadata": {
        "id": "iYlOEIvXklUO"
      }
    },
    {
      "cell_type": "code",
      "source": [
        "#1. Write a Python Program to find sum of array\n",
        "arr = []\n",
        "arr = [12, 10, 10, 20]\n",
        "ans = sum(arr)\n",
        "print('Sum of the array is: ', ans)"
      ],
      "metadata": {
        "colab": {
          "base_uri": "https://localhost:8080/"
        },
        "id": "D1vx2ah2kq6b",
        "outputId": "47f0c781-3bb8-48da-d6f7-2ba021c84dae"
      },
      "execution_count": null,
      "outputs": [
        {
          "output_type": "stream",
          "name": "stdout",
          "text": [
            "Sum of the array is:  52\n"
          ]
        }
      ]
    },
    {
      "cell_type": "code",
      "source": [
        "#2. Write a Python Program to find largest element in an array\n",
        "\n",
        "def largest(arr, n):\n",
        "    max = arr[0]\n",
        "    for i in range(1, n):\n",
        "        if arr[i] > max:\n",
        "            max = arr[i]\n",
        "    return max\n",
        "\n",
        "arr = [10, 30, 50, 80, 100]\n",
        "n = len(arr)\n",
        "Ans = largest(arr, n)\n",
        "print(\"Largest in given array: \", Ans)"
      ],
      "metadata": {
        "id": "94oOBRnHm2GU",
        "colab": {
          "base_uri": "https://localhost:8080/"
        },
        "outputId": "45e8e98c-1138-444a-c1af-60a7eb6a0958"
      },
      "execution_count": null,
      "outputs": [
        {
          "output_type": "stream",
          "name": "stdout",
          "text": [
            "Largest in given array:  100\n"
          ]
        }
      ]
    },
    {
      "cell_type": "code",
      "source": [
        "#3. Write a Python Program for array rotation?\n",
        "def rotateArray(arr, n, d):\n",
        "    temp = []\n",
        "    i = 0\n",
        "    while (i < d):\n",
        "        temp.append(arr[i])\n",
        "        i = i + 1\n",
        "    i = 0\n",
        "    while (d < n):\n",
        "        arr[i] = arr[d]\n",
        "        i = i + 1\n",
        "        d = d + 1\n",
        "    arr[:] = arr[: i] + temp\n",
        "    return arr\n",
        "arr = [10, 20, 30, 40, 50]\n",
        "print(\"Array after left rotation is: \", end=' ')\n",
        "print(rotateArray(arr, len(arr), 2))"
      ],
      "metadata": {
        "id": "dG8elL7Lm7hV",
        "colab": {
          "base_uri": "https://localhost:8080/"
        },
        "outputId": "2e9e444b-838a-4872-aefe-6763e648c477"
      },
      "execution_count": null,
      "outputs": [
        {
          "output_type": "stream",
          "name": "stdout",
          "text": [
            "Array after left rotation is:  [30, 40, 50, 10, 20]\n"
          ]
        }
      ]
    },
    {
      "cell_type": "code",
      "source": [
        "#4. Write a Python Program to Split the array and add the first part to the end?\n",
        "def splitArr(arr, n, k): \n",
        "    for i in range(0, k): \n",
        "        x = arr[0]\n",
        "        for j in range(0, n-1):\n",
        "            arr[j] = arr[j + 1]\n",
        "          \n",
        "        arr[n-1] = x\n",
        "arr = [10, 20, 30, 40, 50]\n",
        "n = len(arr)\n",
        "position = 2\n",
        "  \n",
        "splitArr(arr, n, position)\n",
        "  \n",
        "for i in range(0, n): \n",
        "    print(arr[i], end = ' ')"
      ],
      "metadata": {
        "id": "H3Da4uJUm_x4",
        "colab": {
          "base_uri": "https://localhost:8080/"
        },
        "outputId": "83e49885-709d-4079-a69f-d71e81dbb134"
      },
      "execution_count": null,
      "outputs": [
        {
          "output_type": "stream",
          "name": "stdout",
          "text": [
            "30 40 50 10 20 "
          ]
        }
      ]
    },
    {
      "cell_type": "code",
      "source": [
        "#5. Write a Python Program to check if given array is Monotonic?\n",
        "def isMonotonic(A):\n",
        "  \n",
        "    return (all(A[i] <= A[i + 1] for i in range(len(A) - 1)) or\n",
        "            all(A[i] >= A[i + 1] for i in range(len(A) - 1)))\n",
        "A = [10, 20, 30, 30]\n",
        "print(isMonotonic(A))\n",
        "  "
      ],
      "metadata": {
        "id": "UOpYQPYinFid",
        "colab": {
          "base_uri": "https://localhost:8080/"
        },
        "outputId": "3c93020b-508d-4c6b-cdbe-e12bc132853e"
      },
      "execution_count": null,
      "outputs": [
        {
          "output_type": "stream",
          "name": "stdout",
          "text": [
            "True\n"
          ]
        }
      ]
    },
    {
      "cell_type": "markdown",
      "source": [
        "#SECTION F"
      ],
      "metadata": {
        "id": "rrkfm0AwQ7os"
      }
    },
    {
      "cell_type": "code",
      "source": [
        "#1. Write a Python program to find sum of elements in list?\n",
        "a=[10,20,30,40,50]\n",
        "sum(a)"
      ],
      "metadata": {
        "colab": {
          "base_uri": "https://localhost:8080/"
        },
        "id": "MU2r5-ygQyJN",
        "outputId": "44a77bd7-746d-4d90-c01a-8c75bef3edb4"
      },
      "execution_count": null,
      "outputs": [
        {
          "output_type": "execute_result",
          "data": {
            "text/plain": [
              "150"
            ]
          },
          "metadata": {},
          "execution_count": 21
        }
      ]
    },
    {
      "cell_type": "code",
      "source": [
        "#2. Write a Python program to Multiply all numbers in the list\n",
        "def mul_list(list) :\n",
        "    product = 1\n",
        "    for i in list:\n",
        "         product = product * i\n",
        "    return product\n",
        "list1 = [10, 22, 15, 14]\n",
        "print(list1)\n",
        "print(\"product: \") \n",
        "print(mul_list(list1))"
      ],
      "metadata": {
        "id": "CQKXMHOaRnUs",
        "colab": {
          "base_uri": "https://localhost:8080/"
        },
        "outputId": "86677060-a721-4cd3-d699-74bf243f156d"
      },
      "execution_count": null,
      "outputs": [
        {
          "output_type": "stream",
          "name": "stdout",
          "text": [
            "[10, 22, 15, 14]\n",
            "product: \n",
            "46200\n"
          ]
        }
      ]
    },
    {
      "cell_type": "code",
      "source": [
        "#3. Write a Python program to find smallest number in a list?\n",
        "list = [10, 20, 30, 45,40, 9]\n",
        "list.sort()\n",
        "print(\"Smallest number is:\", *list[:1])"
      ],
      "metadata": {
        "colab": {
          "base_uri": "https://localhost:8080/"
        },
        "id": "8vG4nSQJT2VE",
        "outputId": "fe7f9b61-c5f8-4365-dc8e-1a72f4b5dbb4"
      },
      "execution_count": null,
      "outputs": [
        {
          "output_type": "stream",
          "name": "stdout",
          "text": [
            "Smallest number is: 9\n"
          ]
        }
      ]
    },
    {
      "cell_type": "code",
      "source": [
        "#4. Write a Python program to find largest number in a list?\n",
        "list = [10, 15, 14, 40, 90]\n",
        "list.sort()\n",
        "print(\"Largest number is:\", list[-1])"
      ],
      "metadata": {
        "colab": {
          "base_uri": "https://localhost:8080/"
        },
        "id": "Cdcaz0mKT2TI",
        "outputId": "b7733dfc-8f02-4748-ee70-31f0eaadab86"
      },
      "execution_count": null,
      "outputs": [
        {
          "output_type": "stream",
          "name": "stdout",
          "text": [
            "Largest number is: 90\n"
          ]
        }
      ]
    },
    {
      "cell_type": "code",
      "source": [
        "#5. Write a Python program to find second largest number in a list?\n",
        "list1 = [10, 20, 30, 40, 50] \n",
        "mx = max(list1[0], list1[1])\n",
        "secondmax = min(list1[0], list1[1])\n",
        "n = len(list1)\n",
        "for i in range(2,n):\n",
        "    if list1[i] > mx:\n",
        "        secondmax = mx\n",
        "        mx = list1[i]\n",
        "    elif list1[i] > secondmax and \\\n",
        "        mx != list1[i]:\n",
        "        secondmax = list1[i]\n",
        "    elif mx == secondmax and \\\n",
        "        secondmax != list1[i]:\n",
        "          secondmax = list1[i]\n",
        " \n",
        "print(\"Second largest number is : \",\\\n",
        "      str(secondmax))"
      ],
      "metadata": {
        "id": "MzHwHLBaUU2e",
        "colab": {
          "base_uri": "https://localhost:8080/"
        },
        "outputId": "af3ba7ae-c25b-4bdd-dd77-a56e2874394a"
      },
      "execution_count": null,
      "outputs": [
        {
          "output_type": "stream",
          "name": "stdout",
          "text": [
            "Second largest number is :  40\n"
          ]
        }
      ]
    },
    {
      "cell_type": "code",
      "source": [
        "#6. Write a Python program to find N largest elements from a list?\n",
        "def Nmaxelements(list1, N):\n",
        "    final_list = [] \n",
        "    for i in range(0, N):\n",
        "        max1 = 0         \n",
        "        for j in range(len(list1)):    \n",
        "            if list1[j] > max1:\n",
        "                max1 = list1[j];\n",
        "                 \n",
        "        list1.remove(max1);\n",
        "        final_list.append(max1)\n",
        "         \n",
        "    print(final_list)\n",
        " \n",
        "list1 = [20, 30, 40, 50, 60, 70, 80, 90, 10]\n",
        "N = 3\n",
        "Nmaxelements(list1, N)"
      ],
      "metadata": {
        "id": "bTElKIwfUU1M",
        "colab": {
          "base_uri": "https://localhost:8080/"
        },
        "outputId": "19fcb1c4-2fdf-40d1-c9ee-a1b031e58d33"
      },
      "execution_count": null,
      "outputs": [
        {
          "output_type": "stream",
          "name": "stdout",
          "text": [
            "[90, 80, 70]\n"
          ]
        }
      ]
    },
    {
      "cell_type": "code",
      "source": [
        "#7. Write a Python program to print even numbers in a list?\n",
        "list1 = [10, 21, 42, 54, 68, 88]\n",
        "for num in list1:\n",
        "    if num % 2 == 0:\n",
        "        print(num, end=\" \")"
      ],
      "metadata": {
        "id": "-d93DLZ4ZGan",
        "colab": {
          "base_uri": "https://localhost:8080/"
        },
        "outputId": "2b73535d-59b8-4919-ae81-da14ce9fbc43"
      },
      "execution_count": null,
      "outputs": [
        {
          "output_type": "stream",
          "name": "stdout",
          "text": [
            "10 42 54 68 88 "
          ]
        }
      ]
    },
    {
      "cell_type": "code",
      "source": [
        "#8. Write a Python program to print odd numbers in a List?\n",
        "list1 = [10, 21, 42, 54, 67, 85]\n",
        "for num in list1:\n",
        "    if num % 2 != 0:\n",
        "       print(num, end = \" \")"
      ],
      "metadata": {
        "id": "c4slQdG0ZGZf",
        "colab": {
          "base_uri": "https://localhost:8080/"
        },
        "outputId": "b43ff033-a42d-428b-d943-5167c330cf7e"
      },
      "execution_count": null,
      "outputs": [
        {
          "output_type": "stream",
          "name": "stdout",
          "text": [
            "21 67 85 "
          ]
        }
      ]
    },
    {
      "cell_type": "code",
      "source": [
        "#9. Write a Python program to Remove empty List from List?\n",
        "list1 = [10, 20, 30, [], [], 60]\n",
        "print(\"The original list is : \" + str(list1))\n",
        "res = [ele for ele in list1 if ele != []]\n",
        "print(\"List after empty list removal : \" + str(res))\n"
      ],
      "metadata": {
        "id": "aEPoEJXOZST-",
        "colab": {
          "base_uri": "https://localhost:8080/"
        },
        "outputId": "1f4231d1-221b-43da-de53-ad40dfb93b11"
      },
      "execution_count": null,
      "outputs": [
        {
          "output_type": "stream",
          "name": "stdout",
          "text": [
            "The original list is : [10, 20, 30, [], [], 60]\n",
            "List after empty list removal : [10, 20, 30, 60]\n"
          ]
        }
      ]
    },
    {
      "cell_type": "code",
      "source": [
        "#10. Write a Python program to Cloning or Copying a list?\n",
        "def Cloning(list1):\n",
        "    li_copy = list1[:]\n",
        "    return li_copy\n",
        "list1 = [10, 20, 30, 40, 50, 60]\n",
        "list2 = Cloning(list1)\n",
        "print(\"Original List:\", list1)\n",
        "print(\"After Cloning:\", list2)"
      ],
      "metadata": {
        "id": "34kdaqrSZX8J",
        "colab": {
          "base_uri": "https://localhost:8080/"
        },
        "outputId": "6d52c091-6e65-4944-e984-bd9afe2b4ff0"
      },
      "execution_count": null,
      "outputs": [
        {
          "output_type": "stream",
          "name": "stdout",
          "text": [
            "Original List: [10, 20, 30, 40, 50, 60]\n",
            "After Cloning: [10, 20, 30, 40, 50, 60]\n"
          ]
        }
      ]
    },
    {
      "cell_type": "code",
      "source": [
        "#11. Write a Python program to Count occurrences of an element in a list?\n",
        "def countX(lst, x):\n",
        "    count = 0\n",
        "    for ele in lst:\n",
        "        if (ele == x):\n",
        "            count = count + 1\n",
        "    return count\n",
        "lst = [10, 20, 30, 10, 10, 20, 10, 50, 60]\n",
        "x = 10\n",
        "print('{} has occurred {} times'.format(x,\n",
        "                                        countX(lst, x)))"
      ],
      "metadata": {
        "id": "Rjlxm5IBZX7b",
        "colab": {
          "base_uri": "https://localhost:8080/"
        },
        "outputId": "7f4ffcfa-80df-4f17-f7eb-b35dc6bcc8c7"
      },
      "execution_count": null,
      "outputs": [
        {
          "output_type": "stream",
          "name": "stdout",
          "text": [
            "10 has occurred 4 times\n"
          ]
        }
      ]
    }
  ],
  "metadata": {
    "colab": {
      "provenance": [],
      "collapsed_sections": [],
      "include_colab_link": true
    },
    "kernelspec": {
      "display_name": "Python 3",
      "name": "python3"
    },
    "language_info": {
      "name": "python"
    }
  },
  "nbformat": 4,
  "nbformat_minor": 0
}